{
 "cells": [
  {
   "cell_type": "code",
   "execution_count": 1,
   "id": "spread-happiness",
   "metadata": {},
   "outputs": [],
   "source": [
    "%matplotlib inline\n",
    "%load_ext autoreload\n",
    "%autoreload 2\n",
    "\n",
    "import numpy as np\n",
    "import pandas as pd\n",
    "import matplotlib.pyplot as plt\n",
    "import seaborn as sns\n",
    "from IPython.display import Markdown, display, HTML\n",
    "\n",
    "# Fix the dying kernel problem (only a problem in some installations - you can remove it, if it works without it)\n",
    "import os\n",
    "os.environ['KMP_DUPLICATE_LIB_OK'] = 'True'"
   ]
  },
  {
   "cell_type": "markdown",
   "id": "approximate-classic",
   "metadata": {},
   "source": [
    "# Numpy tasks\n",
    "\n",
    "For a detailed reference check out: https://numpy.org/doc/stable/reference/arrays.indexing.html."
   ]
  },
  {
   "cell_type": "markdown",
   "id": "regular-niger",
   "metadata": {},
   "source": [
    "**Task 1.** Calculate the sigmoid (logistic) function on every element of the following numpy array [0.3, 1.2, -1.4, 0.2, -0.1, 0.1, 0.8, -0.25] and print the last 5 elements. Use only vector operations."
   ]
  },
  {
   "cell_type": "code",
   "execution_count": 9,
   "id": "agreed-single",
   "metadata": {},
   "outputs": [
    {
     "name": "stdout",
     "output_type": "stream",
     "text": [
      "[0.549834   0.47502081 0.52497919 0.68997448 0.4378235 ]\n"
     ]
    }
   ],
   "source": [
    "array=1/(1 + np.exp(-np.array([0.3, 1.2, -1.4, 0.2, -0.1, 0.1, 0.8, -0.25])))\n",
    "print(array[-5:])"
   ]
  },
  {
   "cell_type": "markdown",
   "id": "another-catch",
   "metadata": {},
   "source": [
    "**Task 2.** Calculate the dot product of the following two vectors:<br/>\n",
    "$x = [3, 1, 4, 2, 6, 1, 4, 8]$<br/>\n",
    "$y = [5, 2, 3, 12, 2, 4, 17, 11]$<br/>\n",
    "a) by using element-wise mutliplication and np.sum,<br/>\n",
    "b) by using np.dot,<br/>\n",
    "b) by using np.matmul and transposition (y.reshape(-1, 1), the alternative y.T will not work because T does not work on 1D arrays)."
   ]
  },
  {
   "cell_type": "code",
   "execution_count": 26,
   "id": "forbidden-journalism",
   "metadata": {},
   "outputs": [
    {
     "name": "stdout",
     "output_type": "stream",
     "text": [
      "225\n",
      "225\n",
      "225\n"
     ]
    }
   ],
   "source": [
    "𝑥=np.array([3,1,4,2,6,1,4,8])\n",
    "𝑦=np.array([5,2,3,12,2,4,17,11])\n",
    "print(np.sum(x*y))\n",
    "print(np.dot(x,y))\n",
    "print(np.sum(np.diagonal(np.matmul(x.reshape(-1,1),np.transpose(y.reshape(-1,1))))))"
   ]
  },
  {
   "cell_type": "markdown",
   "id": "acute-amber",
   "metadata": {},
   "source": [
    "**Task 3.** Calculate value of the logistic model<br/>\n",
    "$$y = \\frac{1}{1 + e^{-x_0 \\theta_0 - \\ldots - x_9 \\theta_9 - \\theta_{10}}}$$\n",
    "for<br/>\n",
    "$x = [1.2, 2.3, 3.4, -0.7, 4.2, 2.7, -0.5, 1.4, -3.3, 0.2]$<br/>\n",
    "$\\theta = [2.7, 0.33, -2.12, -1.73, 2.9, -5.8, -0.9, 12.11, 3.43, -0.5, -1.65]$<br/>\n",
    "and print the result. Use only vector operations."
   ]
  },
  {
   "cell_type": "code",
   "execution_count": 3,
   "id": "falling-holder",
   "metadata": {},
   "outputs": [
    {
     "name": "stdout",
     "output_type": "stream",
     "text": [
      "0.24176998\n"
     ]
    }
   ],
   "source": [
    "x=np.array([1.2,2.3,3.4,-0.7,4.2,2.7,-0.5,1.4,-3.3,0.2])\n",
    "𝜃=np.array([2.7,0.33,-2.12,-1.73,2.9,-5.8,-0.9,12.11,3.43,-0.5,-1.65])\n",
    "power=np.sum([(-1)*x[i]*𝜃[i] for i in range(len(x))])-𝜃[10]\n",
    "e_power=np.exp(power)\n",
    "y=1.0/(1.0+e_power)\n",
    "print(round(y,8))"
   ]
  },
  {
   "cell_type": "markdown",
   "id": "encouraging-clear",
   "metadata": {},
   "source": [
    "**Task 4.** Calculate value of the multivariate linear regression model<br/>\n",
    "$$y = A x + B$$\n",
    "for<br/>\n",
    "$A = \\begin{bmatrix} 1 & 2 & 1 \\\\ 3 & 0 & 1 \\end{bmatrix}$<br/>\n",
    "$B = \\begin{bmatrix} 0.2 \\\\ 0.3 \\end{bmatrix}$<br/>\n",
    "$x = [1, 2, 3]^T$<br/>\n",
    "and print the result. Use only vector and matrix operations."
   ]
  },
  {
   "cell_type": "code",
   "execution_count": 81,
   "id": "casual-emergency",
   "metadata": {},
   "outputs": [
    {
     "name": "stdout",
     "output_type": "stream",
     "text": [
      "[[8.2]\n",
      " [6.3]]\n"
     ]
    }
   ],
   "source": [
    "a=np.array([[1,2,1],[3,0,1]])\n",
    "b=np.array([0.2,0.3])\n",
    "x=np.array([1,2,3])\n",
    "print((np.matmul(a,x)+b).reshape(-1,1))"
   ]
  },
  {
   "cell_type": "markdown",
   "id": "latter-vector",
   "metadata": {},
   "source": [
    "# Pandas"
   ]
  },
  {
   "cell_type": "markdown",
   "id": "contrary-vacuum",
   "metadata": {},
   "source": [
    "## Load datasets\n",
    "\n",
    "- Steam (https://www.kaggle.com/tamber/steam-video-games)\n",
    "\n",
    "- MovieLens (https://grouplens.org/datasets/movielens/)"
   ]
  },
  {
   "cell_type": "code",
   "execution_count": 116,
   "id": "alert-friday",
   "metadata": {},
   "outputs": [],
   "source": [
    "steam_df = pd.read_csv(os.path.join(\"data\", \"steam\", \"steam-200k.csv\"), \n",
    "                       names=['user-id', 'game-title', 'behavior-name', 'value', 'zero'])\n",
    "\n",
    "ml_ratings_df = pd.read_csv(os.path.join(\"data\", \"movielens_small\", \"ratings.csv\"))\n",
    "ml_movies_df = pd.read_csv(os.path.join(\"data\", \"movielens_small\", \"movies.csv\"))"
   ]
  },
  {
   "cell_type": "markdown",
   "id": "alpha-portal",
   "metadata": {},
   "source": [
    "## Merge both MovieLens DataFrames into one"
   ]
  },
  {
   "cell_type": "code",
   "execution_count": 117,
   "id": "affecting-disclosure",
   "metadata": {},
   "outputs": [
    {
     "data": {
      "text/html": [
       "<div>\n",
       "<style scoped>\n",
       "    .dataframe tbody tr th:only-of-type {\n",
       "        vertical-align: middle;\n",
       "    }\n",
       "\n",
       "    .dataframe tbody tr th {\n",
       "        vertical-align: top;\n",
       "    }\n",
       "\n",
       "    .dataframe thead th {\n",
       "        text-align: right;\n",
       "    }\n",
       "</style>\n",
       "<table border=\"1\" class=\"dataframe\">\n",
       "  <thead>\n",
       "    <tr style=\"text-align: right;\">\n",
       "      <th></th>\n",
       "      <th>userId</th>\n",
       "      <th>movieId</th>\n",
       "      <th>rating</th>\n",
       "      <th>timestamp</th>\n",
       "      <th>title</th>\n",
       "      <th>genres</th>\n",
       "    </tr>\n",
       "  </thead>\n",
       "  <tbody>\n",
       "    <tr>\n",
       "      <th>0</th>\n",
       "      <td>1</td>\n",
       "      <td>1</td>\n",
       "      <td>4.0</td>\n",
       "      <td>964982703</td>\n",
       "      <td>Toy Story (1995)</td>\n",
       "      <td>Adventure|Animation|Children|Comedy|Fantasy</td>\n",
       "    </tr>\n",
       "    <tr>\n",
       "      <th>1</th>\n",
       "      <td>5</td>\n",
       "      <td>1</td>\n",
       "      <td>4.0</td>\n",
       "      <td>847434962</td>\n",
       "      <td>Toy Story (1995)</td>\n",
       "      <td>Adventure|Animation|Children|Comedy|Fantasy</td>\n",
       "    </tr>\n",
       "    <tr>\n",
       "      <th>2</th>\n",
       "      <td>7</td>\n",
       "      <td>1</td>\n",
       "      <td>4.5</td>\n",
       "      <td>1106635946</td>\n",
       "      <td>Toy Story (1995)</td>\n",
       "      <td>Adventure|Animation|Children|Comedy|Fantasy</td>\n",
       "    </tr>\n",
       "    <tr>\n",
       "      <th>3</th>\n",
       "      <td>15</td>\n",
       "      <td>1</td>\n",
       "      <td>2.5</td>\n",
       "      <td>1510577970</td>\n",
       "      <td>Toy Story (1995)</td>\n",
       "      <td>Adventure|Animation|Children|Comedy|Fantasy</td>\n",
       "    </tr>\n",
       "    <tr>\n",
       "      <th>4</th>\n",
       "      <td>17</td>\n",
       "      <td>1</td>\n",
       "      <td>4.5</td>\n",
       "      <td>1305696483</td>\n",
       "      <td>Toy Story (1995)</td>\n",
       "      <td>Adventure|Animation|Children|Comedy|Fantasy</td>\n",
       "    </tr>\n",
       "    <tr>\n",
       "      <th>5</th>\n",
       "      <td>18</td>\n",
       "      <td>1</td>\n",
       "      <td>3.5</td>\n",
       "      <td>1455209816</td>\n",
       "      <td>Toy Story (1995)</td>\n",
       "      <td>Adventure|Animation|Children|Comedy|Fantasy</td>\n",
       "    </tr>\n",
       "    <tr>\n",
       "      <th>6</th>\n",
       "      <td>19</td>\n",
       "      <td>1</td>\n",
       "      <td>4.0</td>\n",
       "      <td>965705637</td>\n",
       "      <td>Toy Story (1995)</td>\n",
       "      <td>Adventure|Animation|Children|Comedy|Fantasy</td>\n",
       "    </tr>\n",
       "    <tr>\n",
       "      <th>7</th>\n",
       "      <td>21</td>\n",
       "      <td>1</td>\n",
       "      <td>3.5</td>\n",
       "      <td>1407618878</td>\n",
       "      <td>Toy Story (1995)</td>\n",
       "      <td>Adventure|Animation|Children|Comedy|Fantasy</td>\n",
       "    </tr>\n",
       "    <tr>\n",
       "      <th>8</th>\n",
       "      <td>27</td>\n",
       "      <td>1</td>\n",
       "      <td>3.0</td>\n",
       "      <td>962685262</td>\n",
       "      <td>Toy Story (1995)</td>\n",
       "      <td>Adventure|Animation|Children|Comedy|Fantasy</td>\n",
       "    </tr>\n",
       "    <tr>\n",
       "      <th>9</th>\n",
       "      <td>31</td>\n",
       "      <td>1</td>\n",
       "      <td>5.0</td>\n",
       "      <td>850466616</td>\n",
       "      <td>Toy Story (1995)</td>\n",
       "      <td>Adventure|Animation|Children|Comedy|Fantasy</td>\n",
       "    </tr>\n",
       "  </tbody>\n",
       "</table>\n",
       "</div>"
      ],
      "text/plain": [
       "   userId  movieId  rating   timestamp             title  \\\n",
       "0       1        1     4.0   964982703  Toy Story (1995)   \n",
       "1       5        1     4.0   847434962  Toy Story (1995)   \n",
       "2       7        1     4.5  1106635946  Toy Story (1995)   \n",
       "3      15        1     2.5  1510577970  Toy Story (1995)   \n",
       "4      17        1     4.5  1305696483  Toy Story (1995)   \n",
       "5      18        1     3.5  1455209816  Toy Story (1995)   \n",
       "6      19        1     4.0   965705637  Toy Story (1995)   \n",
       "7      21        1     3.5  1407618878  Toy Story (1995)   \n",
       "8      27        1     3.0   962685262  Toy Story (1995)   \n",
       "9      31        1     5.0   850466616  Toy Story (1995)   \n",
       "\n",
       "                                        genres  \n",
       "0  Adventure|Animation|Children|Comedy|Fantasy  \n",
       "1  Adventure|Animation|Children|Comedy|Fantasy  \n",
       "2  Adventure|Animation|Children|Comedy|Fantasy  \n",
       "3  Adventure|Animation|Children|Comedy|Fantasy  \n",
       "4  Adventure|Animation|Children|Comedy|Fantasy  \n",
       "5  Adventure|Animation|Children|Comedy|Fantasy  \n",
       "6  Adventure|Animation|Children|Comedy|Fantasy  \n",
       "7  Adventure|Animation|Children|Comedy|Fantasy  \n",
       "8  Adventure|Animation|Children|Comedy|Fantasy  \n",
       "9  Adventure|Animation|Children|Comedy|Fantasy  "
      ]
     },
     "execution_count": 117,
     "metadata": {},
     "output_type": "execute_result"
    }
   ],
   "source": [
    "ml_df = pd.merge(ml_ratings_df, ml_movies_df, on='movieId')\n",
    "ml_df.head(10)"
   ]
  },
  {
   "cell_type": "markdown",
   "id": "objective-associate",
   "metadata": {},
   "source": [
    "## Pandas tasks - Steam dataset"
   ]
  },
  {
   "cell_type": "markdown",
   "id": "floppy-american",
   "metadata": {},
   "source": [
    "**Task 5.** How many people made a purchase in the Steam dataset? Remember that a person could buy many games, but you need to count every person once."
   ]
  },
  {
   "cell_type": "code",
   "execution_count": 23,
   "id": "decimal-grass",
   "metadata": {},
   "outputs": [
    {
     "data": {
      "text/html": [
       "<div>\n",
       "<style scoped>\n",
       "    .dataframe tbody tr th:only-of-type {\n",
       "        vertical-align: middle;\n",
       "    }\n",
       "\n",
       "    .dataframe tbody tr th {\n",
       "        vertical-align: top;\n",
       "    }\n",
       "\n",
       "    .dataframe thead th {\n",
       "        text-align: right;\n",
       "    }\n",
       "</style>\n",
       "<table border=\"1\" class=\"dataframe\">\n",
       "  <thead>\n",
       "    <tr style=\"text-align: right;\">\n",
       "      <th></th>\n",
       "      <th>user-id</th>\n",
       "      <th>game-title</th>\n",
       "      <th>behavior-name</th>\n",
       "      <th>value</th>\n",
       "      <th>zero</th>\n",
       "    </tr>\n",
       "  </thead>\n",
       "  <tbody>\n",
       "    <tr>\n",
       "      <th>0</th>\n",
       "      <td>151603712</td>\n",
       "      <td>The Elder Scrolls V Skyrim</td>\n",
       "      <td>purchase</td>\n",
       "      <td>1.0</td>\n",
       "      <td>0</td>\n",
       "    </tr>\n",
       "    <tr>\n",
       "      <th>1</th>\n",
       "      <td>151603712</td>\n",
       "      <td>The Elder Scrolls V Skyrim</td>\n",
       "      <td>play</td>\n",
       "      <td>273.0</td>\n",
       "      <td>0</td>\n",
       "    </tr>\n",
       "    <tr>\n",
       "      <th>2</th>\n",
       "      <td>151603712</td>\n",
       "      <td>Fallout 4</td>\n",
       "      <td>purchase</td>\n",
       "      <td>1.0</td>\n",
       "      <td>0</td>\n",
       "    </tr>\n",
       "    <tr>\n",
       "      <th>3</th>\n",
       "      <td>151603712</td>\n",
       "      <td>Fallout 4</td>\n",
       "      <td>play</td>\n",
       "      <td>87.0</td>\n",
       "      <td>0</td>\n",
       "    </tr>\n",
       "    <tr>\n",
       "      <th>4</th>\n",
       "      <td>151603712</td>\n",
       "      <td>Spore</td>\n",
       "      <td>purchase</td>\n",
       "      <td>1.0</td>\n",
       "      <td>0</td>\n",
       "    </tr>\n",
       "  </tbody>\n",
       "</table>\n",
       "</div>"
      ],
      "text/plain": [
       "     user-id                  game-title behavior-name  value  zero\n",
       "0  151603712  The Elder Scrolls V Skyrim      purchase    1.0     0\n",
       "1  151603712  The Elder Scrolls V Skyrim          play  273.0     0\n",
       "2  151603712                   Fallout 4      purchase    1.0     0\n",
       "3  151603712                   Fallout 4          play   87.0     0\n",
       "4  151603712                       Spore      purchase    1.0     0"
      ]
     },
     "execution_count": 23,
     "metadata": {},
     "output_type": "execute_result"
    }
   ],
   "source": [
    "steam_df.head()"
   ]
  },
  {
   "cell_type": "markdown",
   "id": "protected-glossary",
   "metadata": {},
   "source": [
    "**Task 6.** How many people made a purchase of \"The Elder Scrolls V Skyrim\"?"
   ]
  },
  {
   "cell_type": "code",
   "execution_count": 41,
   "id": "distant-overview",
   "metadata": {},
   "outputs": [
    {
     "name": "stdout",
     "output_type": "stream",
     "text": [
      "717\n"
     ]
    }
   ],
   "source": [
    "# gamers_grouped=steam_df.groupby(\"game-title\").count().reset_index()\n",
    "# gamers_grouped.head()\n",
    "# tes5_fans=gamers_grouped.loc[gamers_grouped[\"game-title\"]==\"The Elder Scrolls V Skyrim\"]\n",
    "# print(tes5_fans[\"user-id\"])\n",
    "# steam_df.loc[steam_df[\"game-title\"]==\"The Elder Scrolls V Skyrim\",[\"user-id\"]].head()\n",
    "print(len(pd.unique(steam_df.loc[steam_df[\"game-title\"]==\"The Elder Scrolls V Skyrim\",[\"user-id\"]][\"user-id\"])))"
   ]
  },
  {
   "cell_type": "markdown",
   "id": "vocational-weekly",
   "metadata": {},
   "source": [
    "**Task 7.** How many purchases people made on average?"
   ]
  },
  {
   "cell_type": "code",
   "execution_count": 63,
   "id": "reflected-cathedral",
   "metadata": {},
   "outputs": [
    {
     "name": "stdout",
     "output_type": "stream",
     "text": [
      "10.45\n"
     ]
    }
   ],
   "source": [
    "purchases=steam_df.loc[steam_df[\"behavior-name\"]==\"purchase\",[\"user-id\"]].reset_index()\n",
    "grouped=purchases.groupby(\"user-id\").count()\n",
    "print(round(np.mean(grouped[\"index\"]),2))"
   ]
  },
  {
   "cell_type": "markdown",
   "id": "signed-transaction",
   "metadata": {},
   "source": [
    "**Task 8.** Who bought the most games?"
   ]
  },
  {
   "cell_type": "code",
   "execution_count": 93,
   "id": "handmade-revolution",
   "metadata": {},
   "outputs": [
    {
     "name": "stdout",
     "output_type": "stream",
     "text": [
      "62990992\n"
     ]
    }
   ],
   "source": [
    "import numpy as np\n",
    "purchases=steam_df.loc[steam_df[\"behavior-name\"]==\"purchase\",[\"user-id\"]].reset_index()\n",
    "grouped=purchases.groupby(\"user-id\").count().reset_index()\n",
    "max_purchases=np.max(grouped[\"index\"])\n",
    "max_player=grouped.loc[grouped[\"index\"]==max_purchases,[\"user-id\",\"index\"]]\n",
    "print(max_player.iloc[0][\"user-id\"])"
   ]
  },
  {
   "cell_type": "markdown",
   "id": "piano-bobby",
   "metadata": {},
   "source": [
    "**Task 9.** How many hours on average people played in \"The Elder Scrolls V Skyrim\"?"
   ]
  },
  {
   "cell_type": "code",
   "execution_count": 39,
   "id": "hydraulic-observation",
   "metadata": {},
   "outputs": [
    {
     "name": "stdout",
     "output_type": "stream",
     "text": [
      "104.71\n"
     ]
    }
   ],
   "source": [
    "skyrim_plays=steam_df.loc[(steam_df[\"behavior-name\"]==\"play\") & \n",
    "                          (steam_df[\"game-title\"]==\"The Elder Scrolls V Skyrim\"),\n",
    "                          [\"user-id\",\"value\"]].reset_index()\n",
    "grouped=skyrim_plays.groupby(\"user-id\").sum().reset_index()\n",
    "print(round(np.mean(grouped[\"value\"]),2))"
   ]
  },
  {
   "cell_type": "markdown",
   "id": "stuffed-creativity",
   "metadata": {},
   "source": [
    "**Task 10.** Which games were played the most (in terms of the number of hours played)? Display a DataFrame with the first 10 titles and respective numbers of hours."
   ]
  },
  {
   "cell_type": "code",
   "execution_count": 43,
   "id": "challenging-truck",
   "metadata": {},
   "outputs": [
    {
     "name": "stdout",
     "output_type": "stream",
     "text": [
      "                                    game-title     value\n",
      "0                                       Dota 2  981684.6\n",
      "1              Counter-Strike Global Offensive  322771.6\n",
      "2                              Team Fortress 2  173673.3\n",
      "3                               Counter-Strike  134261.1\n",
      "4                   Sid Meier's Civilization V   99821.3\n",
      "5                        Counter-Strike Source   96075.5\n",
      "6                   The Elder Scrolls V Skyrim   70889.3\n",
      "7                                  Garry's Mod   49725.3\n",
      "8  Call of Duty Modern Warfare 2 - Multiplayer   42009.9\n",
      "9                                Left 4 Dead 2   33596.7\n"
     ]
    }
   ],
   "source": [
    "games_played=steam_df.loc[(steam_df[\"behavior-name\"]==\"play\"),\n",
    "                          [\"game-title\",\"value\"]].reset_index()\n",
    "games_played=games_played.groupby(\"game-title\").sum()\n",
    "games_played=games_played.sort_values(by='value', ascending=False).reset_index()\n",
    "games_played[[\"game-title\",\"value\"]].head(10)\n",
    "print(games_played[[\"game-title\",\"value\"]].head(10))"
   ]
  },
  {
   "cell_type": "markdown",
   "id": "crude-petroleum",
   "metadata": {},
   "source": [
    "**Task 11.** Which games are the most consistently played (in terms of the average number of hours played)? Print a DataFrame with the first 10 titles and respective numbers of hours."
   ]
  },
  {
   "cell_type": "code",
   "execution_count": 13,
   "id": "surgical-lawsuit",
   "metadata": {},
   "outputs": [
    {
     "name": "stdout",
     "output_type": "stream",
     "text": [
      "                          game-title        value\n",
      "0            Eastside Hockey Manager  1295.000000\n",
      "1  Baldur's Gate II Enhanced Edition   475.255556\n",
      "2                    FIFA Manager 09   411.000000\n",
      "3                          Perpetuum   400.975000\n",
      "4              Football Manager 2014   391.984615\n",
      "5              Football Manager 2012   390.453165\n",
      "6              Football Manager 2010   375.048571\n",
      "7              Football Manager 2011   365.703226\n",
      "8                  Freaking Meatbags   331.000000\n",
      "9        Out of the Park Baseball 16   330.400000\n"
     ]
    }
   ],
   "source": [
    "games_played=steam_df.loc[(steam_df[\"behavior-name\"]==\"play\"),\n",
    "                          [\"game-title\",\"value\"]].reset_index()\n",
    "games_played=games_played.groupby(\"game-title\").mean()\n",
    "games_played=games_played.sort_values(by='value', ascending=False).reset_index()\n",
    "print(games_played[[\"game-title\",\"value\"]].head(10))"
   ]
  },
  {
   "cell_type": "markdown",
   "id": "monetary-toyota",
   "metadata": {},
   "source": [
    "**Task 12\\*\\*.** Fix the above for the fact that 0 hours played is not listed, but only a purchase is recorded in such a case."
   ]
  },
  {
   "cell_type": "code",
   "execution_count": 47,
   "id": "protective-report",
   "metadata": {},
   "outputs": [
    {
     "name": "stdout",
     "output_type": "stream",
     "text": [
      "      user-id                  game-title behavior-name  value  zero\n",
      "0   151603712  The Elder Scrolls V Skyrim      purchase    1.0     0\n",
      "1   151603712  The Elder Scrolls V Skyrim          play  273.0     0\n",
      "2   151603712                   Fallout 4      purchase    1.0     0\n",
      "3   151603712                   Fallout 4          play   87.0     0\n",
      "4   151603712                       Spore      purchase    1.0     0\n",
      "5   151603712                       Spore          play   14.9     0\n",
      "6   151603712           Fallout New Vegas      purchase    1.0     0\n",
      "7   151603712           Fallout New Vegas          play   12.1     0\n",
      "8   151603712               Left 4 Dead 2      purchase    1.0     0\n",
      "9   151603712               Left 4 Dead 2          play    8.9     0\n",
      "10  151603712                    HuniePop      purchase    1.0     0\n",
      "11  151603712                    HuniePop          play    8.5     0\n",
      "12  151603712               Path of Exile      purchase    1.0     0\n",
      "13  151603712               Path of Exile          play    8.1     0\n",
      "14  151603712                 Poly Bridge      purchase    1.0     0\n",
      "15  151603712                 Poly Bridge          play    7.5     0\n",
      "16  151603712                 Left 4 Dead      purchase    1.0     0\n",
      "17  151603712                 Left 4 Dead          play    3.3     0\n",
      "18  151603712             Team Fortress 2      purchase    1.0     0\n",
      "19  151603712             Team Fortress 2          play    2.8     0\n",
      "                          game-title        value\n",
      "0            Eastside Hockey Manager  1295.000000\n",
      "1  Baldur's Gate II Enhanced Edition   475.255556\n",
      "2                    FIFA Manager 09   411.000000\n",
      "3                          Perpetuum   400.975000\n",
      "4              Football Manager 2014   391.984615\n",
      "5              Football Manager 2012   390.453165\n",
      "6              Football Manager 2010   375.048571\n",
      "7              Football Manager 2011   365.703226\n",
      "8                  Freaking Meatbags   331.000000\n",
      "9        Out of the Park Baseball 16   330.400000\n"
     ]
    }
   ],
   "source": [
    "user_ids=steam_df[\"user-id\"].unique().tolist()\n",
    "game_titles=steam_df[\"game-title\"].unique().tolist()\n",
    "# behavior_names=steam_df[\"behavior-name\"].unique().tolist()\n",
    "# values=steam_df[\"value\"].unique().tolist()\n",
    "# zeros=steam_df[\"zero\"].unique().tolist()\n",
    "# games_new=pd.DataFrame(list(itertools.product(user_id,game_title,behavior_name,value,zero))).rename(columns={0:'user',1:'cat'})\n",
    "# print(games_new)\n",
    "games_fixed=steam_df.copy()\n",
    "print(games_fixed.head(20))\n",
    "# for user in user_ids:\n",
    "#     for title in game_titles:\n",
    "#         if ((games_fixed[\"user-id\"]==user) & \n",
    "#             (games_fixed[\"game-title\"]==title) & \n",
    "#             (games_fixed[\"behavior-name\"]==\"play\")).any() == False:\n",
    "#             games_fixed.append({\"user-id\":user,\"game-title\":title,\"behavior-name\":\"play\",\"value\":0,\"zero\":0},ignore_index=True)\n",
    "games_played=games_fixed.loc[(steam_df[\"behavior-name\"]==\"play\"),\n",
    "                          [\"game-title\",\"value\"]].reset_index()\n",
    "games_played=games_played.groupby(\"game-title\").mean()\n",
    "games_played=games_played.sort_values(by='value', ascending=False).reset_index()\n",
    "print(games_played[[\"game-title\",\"value\"]].head(10))"
   ]
  },
  {
   "cell_type": "markdown",
   "id": "ceramic-awareness",
   "metadata": {},
   "source": [
    "**Task 13.** Apply the sigmoid function\n",
    "$$f(x) = \\frac{1}{1 + e^{-\\frac{1}{100}x}}$$\n",
    "to hours played and print a DataFrame with the first 10 rows from the entire Steam dataset after this change."
   ]
  },
  {
   "cell_type": "code",
   "execution_count": 50,
   "id": "optical-announcement",
   "metadata": {},
   "outputs": [
    {
     "name": "stdout",
     "output_type": "stream",
     "text": [
      "     user-id                  game-title behavior-name     value  zero\n",
      "0  151603712  The Elder Scrolls V Skyrim      purchase  1.000000     0\n",
      "1  151603712  The Elder Scrolls V Skyrim          play  0.938774     0\n",
      "2  151603712                   Fallout 4      purchase  1.000000     0\n",
      "3  151603712                   Fallout 4          play  0.704746     0\n",
      "4  151603712                       Spore      purchase  1.000000     0\n",
      "5  151603712                       Spore          play  0.537181     0\n",
      "6  151603712           Fallout New Vegas      purchase  1.000000     0\n",
      "7  151603712           Fallout New Vegas          play  0.530213     0\n",
      "8  151603712               Left 4 Dead 2      purchase  1.000000     0\n",
      "9  151603712               Left 4 Dead 2          play  0.522235     0\n"
     ]
    }
   ],
   "source": [
    "steam=steam_df.copy()\n",
    "steam.loc[steam[\"behavior-name\"]==\"play\",[\"value\"]]=steam[\"value\"].apply(lambda x : 1/(1+np.exp(-0.01*x)))\n",
    "print(steam.head(10))"
   ]
  },
  {
   "cell_type": "markdown",
   "id": "actual-spotlight",
   "metadata": {},
   "source": [
    "## Pandas tasks - MovieLens dataset"
   ]
  },
  {
   "cell_type": "markdown",
   "id": "inclusive-crash",
   "metadata": {},
   "source": [
    "**Task 14\\*.** Calculate popularity (by the number of users who watched a movie) of all genres. Print a DataFrame with two columns: genre, n_users, where n_users contains the number of users who watched a given genre. Sort all genres in descending order."
   ]
  },
  {
   "cell_type": "code",
   "execution_count": 127,
   "id": "developmental-seven",
   "metadata": {},
   "outputs": [
    {
     "name": "stdout",
     "output_type": "stream",
     "text": [
      "                 genre  n_users\n",
      "0                Drama    41928\n",
      "1               Comedy    39053\n",
      "2               Action    30635\n",
      "3             Thriller    26452\n",
      "4            Adventure    24161\n",
      "5              Romance    18124\n",
      "6               Sci-Fi    17243\n",
      "7                Crime    16681\n",
      "8              Fantasy    11834\n",
      "9             Children     9208\n",
      "10             Mystery     7674\n",
      "11              Horror     7291\n",
      "12           Animation     6988\n",
      "13                 War     4859\n",
      "14                IMAX     4145\n",
      "15             Musical     4138\n",
      "16             Western     1930\n",
      "17         Documentary     1219\n",
      "18           Film-Noir      870\n",
      "19  (no genres listed)       47\n"
     ]
    }
   ],
   "source": [
    "import warnings\n",
    "# warnings.filterwarnings(\"ignore\", 'This pattern has match groups')\n",
    "\n",
    "movies_grouped=ml_df.groupby(\"movieId\").count()[[\"userId\"]]\n",
    "movies_grouped=movies_grouped.rename(columns={\"userId\":\"n_users\"})\n",
    "movies_merged=pd.merge(movies_grouped,ml_df,on=\"movieId\")[[\"movieId\",\"n_users\",\"genres\"]].drop_duplicates()\n",
    "movies_merged[\"genres\"]=movies_merged[\"genres\"].str.split(\"|\")\n",
    "genres_dict={}\n",
    "for index,row in movies_merged.iterrows():\n",
    "    for genre in row[\"genres\"]:\n",
    "        if genre not in genres_dict:\n",
    "            genres_dict[genre]=0\n",
    "        genres_dict[genre]+=row[\"n_users\"]\n",
    "genres_df=pd.DataFrame.from_dict(genres_dict,orient=\"index\")\n",
    "genres_df=genres_df.sort_values(by=0, ascending=False).reset_index()\n",
    "genres_df.set_axis([\"genre\",\"n_users\"], axis=\"columns\", inplace=True)\n",
    "print(genres_df)"
   ]
  },
  {
   "cell_type": "markdown",
   "id": "personalized-finland",
   "metadata": {},
   "source": [
    "**Task 15\\*.** Calculate average rating for all genres. Print a DataFrame with two columns: genre, rating, where rating contains the average rating for a given genre. Sort all genres in descending order."
   ]
  },
  {
   "cell_type": "code",
   "execution_count": 159,
   "id": "inside-personal",
   "metadata": {},
   "outputs": [
    {
     "name": "stdout",
     "output_type": "stream",
     "text": [
      "                 genre    rating\n",
      "0            Film-Noir  3.920115\n",
      "1                  War  3.808294\n",
      "2          Documentary  3.797785\n",
      "3                Crime  3.658294\n",
      "4                Drama  3.656184\n",
      "5              Mystery  3.632460\n",
      "6            Animation  3.629937\n",
      "7                 IMAX  3.618335\n",
      "8              Western  3.583938\n",
      "9              Musical  3.563678\n",
      "10           Adventure  3.508609\n",
      "11             Romance  3.506511\n",
      "12            Thriller  3.493706\n",
      "13             Fantasy  3.491001\n",
      "14  (no genres listed)  3.489362\n",
      "15              Sci-Fi  3.455721\n",
      "16              Action  3.447984\n",
      "17            Children  3.412956\n",
      "18              Comedy  3.384721\n",
      "19              Horror  3.258195\n"
     ]
    }
   ],
   "source": [
    "# movie_means=ml_df.groupby(\"movieId\").mean()[[\"userId\"]]\n",
    "# movies=pd.merge(ml_df,movie_means,on=\"movieId\").rename(columns={\"userId_x\":\"userId\",\"userId_y\":\"mean\"})\n",
    "# movies[\"genres\"]=movies[\"genres\"].str.split(\"|\")\n",
    "# ratings={}\n",
    "# for index,row in movies.iterrows():\n",
    "#     for genre in row[\"genres\"]:\n",
    "#         if genre not in ratings:\n",
    "#             ratings[genre]=[]\n",
    "#         ratings[genre].append(row[\"mean\"])\n",
    "# for genre,rating_list in rating_means.items():\n",
    "#     ratings[genre]=np.mean(rating_list)\n",
    "# ratings_df=pd.DataFrame.from_dict(ratings,orient=\"index\")\n",
    "# ratings_df=ratings_df.sort_values(by=0, ascending=False).reset_index()\n",
    "# ratings_df.set_axis([\"genre\",\"rating\"], axis=\"columns\", inplace=True)\n",
    "# print(ratings_df)\n",
    "\n",
    "import numpy as np\n",
    "\n",
    "movies=ml_df.copy()\n",
    "movies[\"genres\"]=movies[\"genres\"].str.split(\"|\")\n",
    "ratings={}\n",
    "genre_list=movies[\"genres\"]\n",
    "rating_list=movies[\"rating\"]\n",
    "for i in range(len(genre_list)):\n",
    "    for genre in genre_list[i]:\n",
    "        if genre not in ratings:\n",
    "            ratings[genre]=[]\n",
    "        ratings[genre].append(rating_list[i])\n",
    "for genre,rating_list in ratings.items():\n",
    "    ratings[genre]=np.mean(rating_list)\n",
    "ratings_df=pd.DataFrame.from_dict(ratings,orient=\"index\")\n",
    "ratings_df=ratings_df.sort_values(by=0, ascending=False).reset_index()\n",
    "ratings_df.set_axis([\"genre\",\"rating\"], axis=\"columns\", inplace=True)\n",
    "print(ratings_df)"
   ]
  },
  {
   "cell_type": "markdown",
   "id": "vertical-stick",
   "metadata": {},
   "source": [
    "**Task 16.** Calculate each movie rating bias (deviation from the mean of all movies average rating). Print a DataFrame with the first 10 in the form: title, average rating, bias."
   ]
  },
  {
   "cell_type": "code",
   "execution_count": 106,
   "id": "greatest-screen",
   "metadata": {},
   "outputs": [
    {
     "name": "stdout",
     "output_type": "stream",
     "text": [
      "                                     title  average_rating      bias\n",
      "0                               '71 (2014)        4.000000  0.498443\n",
      "1  'Hellboy': The Seeds of Creation (2004)        4.000000  0.498443\n",
      "2                   'Round Midnight (1986)        3.500000 -0.001557\n",
      "3                      'Salem's Lot (2004)        5.000000  1.498443\n",
      "4                'Til There Was You (1997)        4.000000  0.498443\n",
      "5          'Tis the Season for Love (2015)        1.500000 -2.001557\n",
      "6                       'burbs, The (1989)        3.176471 -0.325086\n",
      "7                     'night Mother (1986)        3.000000 -0.501557\n",
      "8              (500) Days of Summer (2009)        3.666667  0.165110\n",
      "9           *batteries not included (1987)        3.285714 -0.215843\n",
      "3.501556983616962\n"
     ]
    }
   ],
   "source": [
    "import numpy as np\n",
    "movies=ml_movies_df.copy()\n",
    "ratings=ml_ratings_df.copy()\n",
    "mean_ratings=pd.merge(movies,ratings,on=\"movieId\")[[\"title\",\"rating\"]].groupby(\"title\").mean()\n",
    "all_mean=np.mean(ratings[\"rating\"])\n",
    "bias_ratings=pd.merge(mean_ratings,movies,on=\"title\")[[\"title\",\"rating\"]].rename(columns={\"rating\": \"average_rating\"})\n",
    "bias_ratings[\"bias\"]=(bias_ratings[\"average_rating\"]-all_mean)\n",
    "print(bias_ratings.head(10))"
   ]
  },
  {
   "cell_type": "markdown",
   "id": "hawaiian-haiti",
   "metadata": {},
   "source": [
    "**Task 17.** Calculate each user rating bias (deviation from the mean of all users average rating). Print a DataFrame with the first 10 in the form: user_id, average rating, bias."
   ]
  },
  {
   "cell_type": "code",
   "execution_count": 109,
   "id": "charitable-guyana",
   "metadata": {},
   "outputs": [
    {
     "name": "stdout",
     "output_type": "stream",
     "text": [
      "   userId  average_rating      bias\n",
      "0       1        4.366379  0.864822\n",
      "1       2        3.948276  0.446719\n",
      "2       3        2.435897 -1.065660\n",
      "3       4        3.555556  0.053999\n",
      "4       5        3.636364  0.134807\n",
      "5       6        3.493631 -0.007926\n",
      "6       7        3.230263 -0.271294\n",
      "7       8        3.574468  0.072911\n",
      "8       9        3.260870 -0.240687\n",
      "9      10        3.278571 -0.222986\n"
     ]
    }
   ],
   "source": [
    "import numpy as np\n",
    "movies=ml_movies_df.copy()\n",
    "ratings=ml_ratings_df.copy()\n",
    "mean_ratings=ratings[[\"userId\",\"rating\"]].groupby(\"userId\").mean().reset_index()\n",
    "all_mean=np.mean(ratings[\"rating\"])\n",
    "bias_ratings=mean_ratings[[\"userId\",\"rating\"]].rename(columns={\"rating\": \"average_rating\"})\n",
    "bias_ratings[\"bias\"]=(bias_ratings[\"average_rating\"]-all_mean)\n",
    "print(bias_ratings.head(10))"
   ]
  },
  {
   "cell_type": "markdown",
   "id": "intimate-porcelain",
   "metadata": {},
   "source": [
    "**Task 18.** Randomly choose 10 movies and 10 users and print their interaction matrix in the form of a DataFrame with user_id as index and movie titles as columns. You can iterate over the DataFrame in this task. Alternatively, try using the DataFrame pivot and reindex methods and compare the execution time. Initialize the numpy random number generator with seed=4321."
   ]
  },
  {
   "cell_type": "code",
   "execution_count": 233,
   "id": "brazilian-frost",
   "metadata": {},
   "outputs": [
    {
     "name": "stdout",
     "output_type": "stream",
     "text": [
      "    Father of the Bride (1950) Matrix, The (1999) Howards End (1992)  \\\n",
      "11                         1.0                1.0                1.0   \n",
      "277                        1.0                1.0                1.0   \n",
      "286                        1.0                0.0                1.0   \n",
      "357                        1.0                1.0                1.0   \n",
      "414                        1.0                0.0                1.0   \n",
      "428                        1.0                0.0                1.0   \n",
      "470                        1.0                1.0                1.0   \n",
      "487                        1.0                0.0                1.0   \n",
      "543                        1.0                0.0                1.0   \n",
      "544                        1.0                1.0                1.0   \n",
      "\n",
      "    Thirteen Conversations About One Thing (a.k.a. 13 Conversations) (2001)  \\\n",
      "11                                                 1.0                        \n",
      "277                                                1.0                        \n",
      "286                                                1.0                        \n",
      "357                                                1.0                        \n",
      "414                                                0.0                        \n",
      "428                                                1.0                        \n",
      "470                                                1.0                        \n",
      "487                                                1.0                        \n",
      "543                                                1.0                        \n",
      "544                                                1.0                        \n",
      "\n",
      "    It Runs in the Family (2003) I Love You to Death (1990) Bedazzled (1967)  \\\n",
      "11                           1.0                        1.0              1.0   \n",
      "277                          1.0                        1.0              1.0   \n",
      "286                          1.0                        1.0              1.0   \n",
      "357                          1.0                        1.0              1.0   \n",
      "414                          1.0                        1.0              1.0   \n",
      "428                          1.0                        1.0              1.0   \n",
      "470                          1.0                        1.0              1.0   \n",
      "487                          1.0                        1.0              1.0   \n",
      "543                          1.0                        1.0              1.0   \n",
      "544                          1.0                        1.0              1.0   \n",
      "\n",
      "    I Don't Know How She Does It (2011) Wind Rises, The (Kaze tachinu) (2013)  \\\n",
      "11                                  1.0                                   1.0   \n",
      "277                                 1.0                                   1.0   \n",
      "286                                 1.0                                   1.0   \n",
      "357                                 1.0                                   1.0   \n",
      "414                                 1.0                                   1.0   \n",
      "428                                 1.0                                   1.0   \n",
      "470                                 1.0                                   1.0   \n",
      "487                                 1.0                                   1.0   \n",
      "543                                 1.0                                   1.0   \n",
      "544                                 1.0                                   1.0   \n",
      "\n",
      "    Night Guards (2016)  \n",
      "11                  1.0  \n",
      "277                 1.0  \n",
      "286                 1.0  \n",
      "357                 1.0  \n",
      "414                 1.0  \n",
      "428                 1.0  \n",
      "470                 1.0  \n",
      "487                 1.0  \n",
      "543                 1.0  \n",
      "544                 1.0  \n"
     ]
    }
   ],
   "source": [
    "user_ids = ml_df['userId'].unique()\n",
    "movie_ids = ml_df['movieId'].unique()\n",
    "rng = np.random.RandomState(seed=4321)\n",
    "user_ids = sorted(list(rng.choice(user_ids, size=10)))\n",
    "movie_ids = sorted(list(rng.choice(movie_ids, size=10)))\n",
    "movie_titles=[ml_df[ml_df[\"movieId\"]==x][\"title\"].iloc[0] for x in movie_ids]\n",
    "df=pd.DataFrame(index=user_ids, columns=movie_titles)\n",
    "for index, row in df.iterrows():\n",
    "    for movie in df.columns:\n",
    "        if ml_df[(ml_df[\"title\"]==movie) & (ml_df[\"userId\"]==index)].empty:\n",
    "            df.loc[index][movie]=\"0.0\"\n",
    "        else:\n",
    "            df.loc[index][movie]=\"1.0\"\n",
    "print(df)"
   ]
  },
  {
   "cell_type": "markdown",
   "id": "boolean-modem",
   "metadata": {},
   "source": [
    "## Pandas + numpy tasks"
   ]
  },
  {
   "cell_type": "markdown",
   "id": "worldwide-disclaimer",
   "metadata": {},
   "source": [
    "**Task 19.** Create the entire interaction matrix (2D numpy array) for the MovieLens dataset. Print the submatrix of the first 10 rows and 10 columns."
   ]
  },
  {
   "cell_type": "code",
   "execution_count": 28,
   "id": "marine-initial",
   "metadata": {
    "scrolled": true
   },
   "outputs": [
    {
     "name": "stdout",
     "output_type": "stream",
     "text": [
      "[[0. 0. 0. 0. 0. 0. 0. 0. 0. 0.]\n",
      " [0. 1. 0. 1. 0. 0. 1. 0. 0. 0.]\n",
      " [0. 0. 0. 0. 0. 0. 0. 0. 0. 0.]\n",
      " [0. 0. 0. 0. 0. 0. 0. 0. 0. 0.]\n",
      " [0. 0. 0. 0. 0. 0. 0. 0. 0. 0.]\n",
      " [0. 1. 0. 0. 0. 0. 0. 0. 0. 0.]\n",
      " [0. 0. 1. 1. 1. 1. 1. 1. 1. 0.]\n",
      " [0. 1. 0. 0. 0. 0. 0. 0. 0. 0.]\n",
      " [0. 0. 1. 0. 0. 0. 0. 0. 0. 0.]\n",
      " [0. 0. 0. 0. 0. 0. 0. 0. 0. 0.]]\n"
     ]
    }
   ],
   "source": [
    "# user_ids = ml_df['userId'].unique()\n",
    "# movie_ids = ml_df['movieId'].unique()\n",
    "# movie_titles=[ml_df[ml_df[\"movieId\"]==x][\"title\"].iloc[0] for x in movie_ids]\n",
    "# arr=np.ndarray(shape=(len(user_ids),len(movie_ids)))\n",
    "# for user in range(len(user_ids)):\n",
    "#     for movie in range(len(movie_titles)):\n",
    "#         if ml_df[(ml_df[\"title\"]==movie_titles[movie]) & (ml_df[\"userId\"]==user_ids[user])].empty:\n",
    "#             arr[user][movie]=\"0.0\"\n",
    "#         else:\n",
    "#             arr[user][movie]=\"1.0\"\n",
    "# print(arr[:10,:10])\n",
    "array=np.zeros(shape=(10,10))\n",
    "array[1:10,1:10]=ml_df.pivot_table(index='userId', columns='movieId', aggfunc=len, fill_value=0).values[0:9,0:9]\n",
    "print(array)"
   ]
  },
  {
   "cell_type": "raw",
   "id": "c7961003",
   "metadata": {},
   "source": [
    "# **Task 20.** Calculate the matrix of size (n_users, n_users) where at position (i, j) there is the number of movies watched both by user i and user j. Use a single matrix multiplication to obtain the result. Print the submatrix of first 10 rows and 10 columns."
   ]
  },
  {
   "cell_type": "code",
   "execution_count": 6,
   "id": "24751980",
   "metadata": {},
   "outputs": [
    {
     "name": "stdout",
     "output_type": "stream",
     "text": [
      "[[1 0 1 ... 0 0 0]\n",
      " [0 0 0 ... 0 0 0]\n",
      " [0 0 0 ... 0 0 0]\n",
      " ...\n",
      " [1 1 1 ... 0 0 0]\n",
      " [1 0 0 ... 0 0 0]\n",
      " [1 0 0 ... 0 0 0]]\n"
     ]
    }
   ],
   "source": [
    "# user_ids = ml_df['userId'].unique()\n",
    "# users=len(user_ids)\n",
    "# arr=np.zeros(shape=(users+1,users+1))\n",
    "# for i in range(users):\n",
    "#     i_movies=ml_df.loc[ml_df[\"userId\"]==user_ids[i]]\n",
    "#     for j in range(users):\n",
    "#         j_movies=ml_df.loc[ml_df[\"userId\"]==user_ids[j]]\n",
    "#         i_j_movies=pd.merge(i_movies,j_movies,on=\"movieId\")[\"movieId\"]\n",
    "#         arr[i+1][j+1]=len(i_j_movies)\n",
    "        \n",
    "# print(arr[:10,:10])\n",
    "\n",
    "array=ml_df.pivot_table(index='userId', columns='movieId', aggfunc=len, fill_value=0).to_numpy(dtype=np.short)\n",
    "print(array)"
   ]
  },
  {
   "cell_type": "markdown",
   "id": "shaped-advance",
   "metadata": {},
   "source": [
    "**Task 21.** Calculate the matrix of size (n_items, n_items) where at position (i, j) there is the number of users who watched both movie i and movie j. Use a single matrix multiplication to obtain the result. To prevent memory error use only the first 1000 items. Print the submatrix of first 10 rows and 10 columns."
   ]
  },
  {
   "cell_type": "code",
   "execution_count": 8,
   "id": "quality-bubble",
   "metadata": {},
   "outputs": [
    {
     "name": "stdout",
     "output_type": "stream",
     "text": [
      "[[1 0 0 ... 0 1 0]\n",
      " [0 0 0 ... 0 0 0]\n",
      " [1 0 0 ... 0 0 0]\n",
      " ...\n",
      " [0 0 0 ... 0 0 0]\n",
      " [0 0 0 ... 0 0 0]\n",
      " [0 0 1 ... 0 0 0]]\n"
     ]
    }
   ],
   "source": [
    "# movie_ids = ml_df['movieId'].unique()\n",
    "# movies=len(movie_ids)\n",
    "# arr=np.zeros(shape=(movies+1,movies+1))\n",
    "# for i in range(movies):\n",
    "#     i_users=ml_df.loc[ml_df[\"movieId\"]==movie_ids[i]]\n",
    "#     for j in range(movies):\n",
    "#         j_users=ml_df.loc[ml_df[\"movieId\"]==movie_ids[j]]\n",
    "#         i_j_users=pd.merge(i_users,j_users,on=\"userId\")[\"userId\"]\n",
    "#         arr[i+1][j+1]=len(i_j_users)\n",
    "        \n",
    "# print(arr[:10,:10])\n",
    "\n",
    "array=ml_df.pivot_table(index='movieId', columns='userId', aggfunc=len, fill_value=0).to_numpy(dtype=np.short)[:1000,:1000]\n",
    "print(array)"
   ]
  }
 ],
 "metadata": {
  "kernelspec": {
   "display_name": "Python 3 (ipykernel)",
   "language": "python",
   "name": "python3"
  },
  "language_info": {
   "codemirror_mode": {
    "name": "ipython",
    "version": 3
   },
   "file_extension": ".py",
   "mimetype": "text/x-python",
   "name": "python",
   "nbconvert_exporter": "python",
   "pygments_lexer": "ipython3",
   "version": "3.9.13"
  }
 },
 "nbformat": 4,
 "nbformat_minor": 5
}
