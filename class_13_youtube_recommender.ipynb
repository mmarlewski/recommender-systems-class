{
 "cells": [
  {
   "cell_type": "markdown",
   "id": "mature-projection",
   "metadata": {},
   "source": [
    "# YouTube Recommender"
   ]
  },
  {
   "cell_type": "code",
   "execution_count": 2,
   "id": "verified-accommodation",
   "metadata": {},
   "outputs": [
    {
     "name": "stdout",
     "output_type": "stream",
     "text": [
      "Requirement already satisfied: livelossplot in /home/marcin/anaconda3/lib/python3.9/site-packages (0.5.5)\n",
      "Requirement already satisfied: matplotlib in /home/marcin/anaconda3/lib/python3.9/site-packages (from livelossplot) (3.5.2)\n",
      "Requirement already satisfied: bokeh in /home/marcin/anaconda3/lib/python3.9/site-packages (from livelossplot) (2.4.3)\n",
      "Requirement already satisfied: tornado>=5.1 in /home/marcin/anaconda3/lib/python3.9/site-packages (from bokeh->livelossplot) (6.1)\n",
      "Requirement already satisfied: typing-extensions>=3.10.0 in /home/marcin/anaconda3/lib/python3.9/site-packages (from bokeh->livelossplot) (4.3.0)\n",
      "Requirement already satisfied: Jinja2>=2.9 in /home/marcin/anaconda3/lib/python3.9/site-packages (from bokeh->livelossplot) (2.11.3)\n",
      "Requirement already satisfied: packaging>=16.8 in /home/marcin/anaconda3/lib/python3.9/site-packages (from bokeh->livelossplot) (21.3)\n",
      "Requirement already satisfied: numpy>=1.11.3 in /home/marcin/anaconda3/lib/python3.9/site-packages (from bokeh->livelossplot) (1.21.5)\n",
      "Requirement already satisfied: pillow>=7.1.0 in /home/marcin/anaconda3/lib/python3.9/site-packages (from bokeh->livelossplot) (9.2.0)\n",
      "Requirement already satisfied: PyYAML>=3.10 in /home/marcin/anaconda3/lib/python3.9/site-packages (from bokeh->livelossplot) (6.0)\n",
      "Requirement already satisfied: kiwisolver>=1.0.1 in /home/marcin/anaconda3/lib/python3.9/site-packages (from matplotlib->livelossplot) (1.4.2)\n",
      "Requirement already satisfied: fonttools>=4.22.0 in /home/marcin/anaconda3/lib/python3.9/site-packages (from matplotlib->livelossplot) (4.25.0)\n",
      "Requirement already satisfied: pyparsing>=2.2.1 in /home/marcin/anaconda3/lib/python3.9/site-packages (from matplotlib->livelossplot) (3.0.9)\n",
      "Requirement already satisfied: python-dateutil>=2.7 in /home/marcin/anaconda3/lib/python3.9/site-packages (from matplotlib->livelossplot) (2.8.2)\n",
      "Requirement already satisfied: cycler>=0.10 in /home/marcin/anaconda3/lib/python3.9/site-packages (from matplotlib->livelossplot) (0.11.0)\n",
      "Requirement already satisfied: MarkupSafe>=0.23 in /home/marcin/anaconda3/lib/python3.9/site-packages (from Jinja2>=2.9->bokeh->livelossplot) (2.0.1)\n",
      "Requirement already satisfied: six>=1.5 in /home/marcin/anaconda3/lib/python3.9/site-packages (from python-dateutil>=2.7->matplotlib->livelossplot) (1.16.0)\n"
     ]
    }
   ],
   "source": [
    "%matplotlib inline\n",
    "%load_ext autoreload\n",
    "%autoreload 2\n",
    "\n",
    "import numpy as np\n",
    "import pandas as pd\n",
    "import matplotlib.pyplot as plt\n",
    "import seaborn as sns\n",
    "from IPython.display import Markdown, display, HTML\n",
    "from collections import defaultdict, deque\n",
    "\n",
    "! pip install livelossplot\n",
    "from livelossplot import PlotLosses\n",
    "import torch\n",
    "import torch.nn as nn\n",
    "import torch.optim as optim\n",
    "\n",
    "# Fix the dying kernel problem (only a problem in some installations - you can remove it, if it works without it)\n",
    "import os\n",
    "os.environ['KMP_DUPLICATE_LIB_OK'] = 'True'\n",
    "os.environ['CUDA_LAUNCH_BLOCKING'] = '1'"
   ]
  },
  {
   "cell_type": "markdown",
   "id": "proud-catholic",
   "metadata": {},
   "source": [
    "# Candidate Generation Network"
   ]
  },
  {
   "cell_type": "markdown",
   "id": "civilian-assessment",
   "metadata": {},
   "source": [
    "**Task 1.** Code the Deep Candidate Generation Network as described in the Covington, Adams, Sargin, Deep Neural Networks for YouTube Recommendations. The network should accept the following parameters in the init method:\n",
    "\n",
    "- n_items - dictionary size (the number of all items), \n",
    "- embedding_dim - item embedding dimension, \n",
    "- hidden_dim - last fully connected hidden layer size (user embedding dim), \n",
    "- n_hidden_layers - the number of hidden layers, \n",
    "- seed - seed for the random number generator.\n",
    "\n",
    "The input to the network has the following form:\n",
    "\n",
    "```\n",
    "user_histories = [\n",
    "    torch.LongTensor([7, 3, 9]),\n",
    "    torch.LongTensor([11]),\n",
    "    torch.LongTensor([0]),\n",
    "    torch.LongTensor([10, 1, 4, 8])\n",
    "]\n",
    "```\n",
    "\n",
    "It's a batch of item interaction histories for several users. The histories can have different lengths.\n",
    "\n",
    "The architecture of the network should be as follows:\n",
    "\n",
    "- In the first step you can loop over elements of the batch.\n",
    "- The embedding layer should be applied to every user's history.\n",
    "- An average embedding should be calculated for the entire user's history.\n",
    "- The entire batch of those averaged embeddings should be fed forward through hidden layers. There should be n_hidden_layers hidden layers. The last hidden layer should have hidden_dim output neurons. Every previous hidden layer should have twice as many output neurons as the next hidden layer. The first hidden layer must have the input dimension compatible with the result of operations described in previous bullets.\n",
    "- The final layer should have hidden_dim input neurons and one output neuron per item. Finally, softmax should be applied on this layer.\n",
    "- All layers should not have the bias term."
   ]
  },
  {
   "cell_type": "code",
   "execution_count": 37,
   "id": "supposed-minimum",
   "metadata": {},
   "outputs": [],
   "source": [
    "\n",
    "class DeepCandidateGenerationModel(nn.Module):\n",
    "    \"\"\"\n",
    "    Extreme multi-class classifier network.\n",
    "    \"\"\"\n",
    "    def __init__(self, n_items, embedding_dim, hidden_dim, n_hidden_layers, seed):\n",
    "        super().__init__()\n",
    "\n",
    "        self.seed = torch.manual_seed(seed)\n",
    "        self.embedding = nn.Embedding(n_items,embedding_dim)\n",
    "        ########################\n",
    "        self.hidden_layer_dims = []\n",
    "        self.hidden_layer_dims.append(hidden_dim)\n",
    "        for i in range(1,n_hidden_layers):\n",
    "            self.hidden_layer_dims.append(self.hidden_layer_dims[i-1]*2)\n",
    "        self.hidden_layer_dims = list(reversed(self.hidden_layer_dims))\n",
    "        \n",
    "        self.weights = []\n",
    "        self.weights.append(nn.Linear(embedding_dim,self.hidden_layer_dims[0],bias=False))\n",
    "        for i in range(1,n_hidden_layers):\n",
    "            self.weights.append(nn.Linear(self.hidden_layer_dims[i-1],self.hidden_layer_dims[i],bias=False))\n",
    "        self.weights.append(nn.Linear(self.hidden_layer_dims[n_hidden_layers-1],n_items,bias=False))\n",
    "        ########################\n",
    "\n",
    "\n",
    "    def forward(self, user_histories):\n",
    "        ########################\n",
    "        all_x = []\n",
    "        \n",
    "        for user_history in user_histories:\n",
    "            embedded_scores = []\n",
    "            for score in user_history:\n",
    "                embedded_scores.append(self.embedding(score))\n",
    "            embedded_scores = torch.stack(embedded_scores)\n",
    "            average_history = torch.mean(embedded_scores,axis=0)\n",
    "            \n",
    "            x = self.weights[0](average_history)\n",
    "            for i in range(1,len(self.weights)-1):\n",
    "                x = self.weights[i](x)\n",
    "            x = self.weights[len(self.weights)-1](x)\n",
    "            all_x.append(x)\n",
    "            \n",
    "        ########################\n",
    "\n",
    "        return torch.stack(all_x)\n"
   ]
  },
  {
   "cell_type": "code",
   "execution_count": 38,
   "id": "administrative-elephant",
   "metadata": {},
   "outputs": [
    {
     "name": "stdout",
     "output_type": "stream",
     "text": [
      "DeepCandidateGenerationModel(\n",
      "  (embedding): Embedding(12, 3)\n",
      ")\n",
      "tensor([[ 0.0204,  0.0067,  0.1136,  0.0917,  0.0218,  0.0041,  0.0319, -0.0448,\n",
      "         -0.0397,  0.1096, -0.0218, -0.0987],\n",
      "        [ 0.0198,  0.0032,  0.0921,  0.0571,  0.0133,  0.0148,  0.0200, -0.0162,\n",
      "         -0.0065,  0.0799, -0.0020, -0.0569],\n",
      "        [ 0.0179, -0.0059, -0.0033,  0.0041, -0.0051, -0.0932,  0.0023, -0.0771,\n",
      "         -0.1772, -0.0030, -0.0510, -0.0057],\n",
      "        [-0.0019,  0.0033,  0.0264,  0.0147,  0.0059,  0.0407,  0.0048,  0.0255,\n",
      "          0.0678,  0.0233,  0.0191, -0.0143]], grad_fn=<StackBackward0>)\n"
     ]
    },
    {
     "ename": "AssertionError",
     "evalue": "",
     "output_type": "error",
     "traceback": [
      "\u001b[0;31m---------------------------------------------------------------------------\u001b[0m",
      "\u001b[0;31mAssertionError\u001b[0m                            Traceback (most recent call last)",
      "\u001b[0;32m/tmp/ipykernel_3611/4293410063.py\u001b[0m in \u001b[0;36m<module>\u001b[0;34m\u001b[0m\n\u001b[1;32m     15\u001b[0m \u001b[0mprint\u001b[0m\u001b[0;34m(\u001b[0m\u001b[0mresult\u001b[0m\u001b[0;34m)\u001b[0m\u001b[0;34m\u001b[0m\u001b[0;34m\u001b[0m\u001b[0m\n\u001b[1;32m     16\u001b[0m \u001b[0;34m\u001b[0m\u001b[0m\n\u001b[0;32m---> 17\u001b[0;31m assert (np.round(np.array(result.tolist()), 4) == np.round(\n\u001b[0m\u001b[1;32m     18\u001b[0m     np.array([[0.0814482569694519, 0.08233463764190674, 0.08382046967744827, 0.08316171914339066, 0.08304114639759064, \n\u001b[1;32m     19\u001b[0m                \u001b[0;36m0.08322826772928238\u001b[0m\u001b[0;34m,\u001b[0m \u001b[0;36m0.08181853592395782\u001b[0m\u001b[0;34m,\u001b[0m \u001b[0;36m0.08334977924823761\u001b[0m\u001b[0;34m,\u001b[0m \u001b[0;36m0.08427998423576355\u001b[0m\u001b[0;34m,\u001b[0m \u001b[0;36m0.0858381986618042\u001b[0m\u001b[0;34m,\u001b[0m\u001b[0;34m\u001b[0m\u001b[0;34m\u001b[0m\u001b[0m\n",
      "\u001b[0;31mAssertionError\u001b[0m: "
     ]
    }
   ],
   "source": [
    "# Test\n",
    "\n",
    "dcg_network = DeepCandidateGenerationModel(n_items=12, embedding_dim=3, hidden_dim=6, n_hidden_layers=4, seed=6789)\n",
    "\n",
    "print(dcg_network)\n",
    "\n",
    "user_histories = [\n",
    "    torch.LongTensor([7, 3, 9]),\n",
    "    torch.LongTensor([11]),\n",
    "    torch.LongTensor([0]),\n",
    "    torch.LongTensor([10, 1, 4, 8])\n",
    "]\n",
    "\n",
    "result = dcg_network(user_histories)\n",
    "print(result)\n",
    "\n",
    "assert (np.round(np.array(result.tolist()), 4) == np.round(\n",
    "    np.array([[0.0814482569694519, 0.08233463764190674, 0.08382046967744827, 0.08316171914339066, 0.08304114639759064, \n",
    "               0.08322826772928238, 0.08181853592395782, 0.08334977924823761, 0.08427998423576355, 0.0858381986618042, \n",
    "               0.08428454399108887, 0.08339447528123856], \n",
    "              [0.08161208778619766, 0.0823715552687645, 0.08370236307382584, 0.0829075276851654, 0.08293760567903519, \n",
    "               0.08351287990808487, 0.08229964226484299, 0.08368352055549622, 0.08461923152208328, 0.08492446690797806, \n",
    "               0.08417494595050812, 0.08325410634279251], \n",
    "              [0.07629935443401337, 0.07855911552906036, 0.08342088758945465, 0.07980967313051224, 0.08325998485088348, \n",
    "               0.08542384952306747, 0.07999198138713837, 0.086661696434021, 0.08794154226779938, 0.0872378796339035, \n",
    "               0.08619119971990585, 0.08520283550024033], \n",
    "              [0.08132115006446838, 0.08194458484649658, 0.08329392224550247, 0.08231865614652634, 0.08351138979196548, \n",
    "               0.08392892777919769, 0.08234265446662903, 0.08428220450878143, 0.08438169211149216, 0.0844755545258522, \n",
    "               0.08409841358661652, 0.08410079777240753]]), 4)).all()"
   ]
  },
  {
   "cell_type": "markdown",
   "id": "asian-adelaide",
   "metadata": {},
   "source": [
    "# Ranking Network"
   ]
  },
  {
   "cell_type": "markdown",
   "id": "reduced-dairy",
   "metadata": {},
   "source": [
    "**Task 2.** Code the Deep Ranking Network as described in the Covington, Adams, Sargin, Deep Neural Networks for YouTube Recommendations. The network should accept the following parameters in the init method:\n",
    "\n",
    "- n_items - dictionary size (the number of all items), \n",
    "- embedding_dim - item embedding dimension, \n",
    "- hidden_dim - last fully connected hidden layer size (user embedding dim), \n",
    "- n_hidden_layers - the number of hidden layers, \n",
    "- seed - seed for the random number generator.\n",
    "\n",
    "The input to the network has the following form:\n",
    "\n",
    "```\n",
    "user_history = torch.LongTensor([7, 3, 9])\n",
    "\n",
    "scored_item = torch.LongTensor([0, 1, 2, 3, 4, 5, 6, 7, 8, 9, 10, 11])\n",
    "```\n",
    "\n",
    "It's an item interaction history for a single user and a batch of item ids to be scored.\n",
    "\n",
    "The architecture of the network should be as follows:\n",
    "\n",
    "- The embedding layer should be applied to user's history.\n",
    "- An average embedding should be calculated for user's history.\n",
    "- The embedding layer should be applied to the batch of scored items.\n",
    "- The user's history average embedding should be concatenated from the left side to every scored item embedding in the batch.\n",
    "- The entire batch of those concatenated embeddings should be fed forward through hidden layers. There should be n_hidden_layers hidden layers. The last hidden layer should have hidden_dim output neurons. Every previous hidden layer should have twice as many output neurons as the next hidden layer. The first hidden layer must have the input dimension compatible with the result of operations described in previous bullets. Hidden layers should not have the bias term.\n",
    "- The final layer should have hidden_dim input neurons and one output neuron. This layer should have the bias term. Finally, sigmoid should be applied on this layer."
   ]
  },
  {
   "cell_type": "code",
   "execution_count": null,
   "id": "constant-jerusalem",
   "metadata": {},
   "outputs": [],
   "source": [
    "class DeepRankingModel(nn.Module):\n",
    "    \"\"\"\n",
    "    Ranking network.\n",
    "    \"\"\"\n",
    "    def __init__(self, n_items, embedding_dim, hidden_dim, n_hidden_layers, seed):\n",
    "        super().__init__()\n",
    "\n",
    "        self.seed = torch.manual_seed(seed)\n",
    "        ########################\n",
    "        # Write your code here #\n",
    "        ########################\n",
    "\n",
    "\n",
    "    def forward(self, user_history, scored_item):\n",
    "        ########################\n",
    "        # Write your code here #\n",
    "        ########################\n",
    "\n",
    "\n",
    "        return x"
   ]
  },
  {
   "cell_type": "code",
   "execution_count": null,
   "id": "framed-connectivity",
   "metadata": {},
   "outputs": [],
   "source": [
    "# Test\n",
    "\n",
    "dr_network = DeepRankingModel(n_items=12, embedding_dim=3, hidden_dim=6, n_hidden_layers=4, seed=6789)\n",
    "\n",
    "print(dr_network)\n",
    "\n",
    "user_history = torch.LongTensor([7, 3, 9])\n",
    "\n",
    "scored_item = torch.LongTensor([0, 1, 2, 3, 4, 5, 6, 7, 8, 9, 10, 11])\n",
    "\n",
    "result = dr_network(user_history, scored_item)\n",
    "print(result)\n",
    "\n",
    "assert all(np.round(np.array(result.tolist()), 4) == np.round(\n",
    "    np.array([[0.4069308638572693], [0.407929003238678], [0.4055391550064087], [0.40804415941238403], [0.4105871021747589], \n",
    "              [0.4065965712070465], [0.40611234307289124], [0.40995174646377563], [0.40362346172332764], \n",
    "              [0.4062325656414032], [0.4094473421573639], [0.41004639863967896]]), 4))"
   ]
  }
 ],
 "metadata": {
  "kernelspec": {
   "display_name": "Python 3 (ipykernel)",
   "language": "python",
   "name": "python3"
  },
  "language_info": {
   "codemirror_mode": {
    "name": "ipython",
    "version": 3
   },
   "file_extension": ".py",
   "mimetype": "text/x-python",
   "name": "python",
   "nbconvert_exporter": "python",
   "pygments_lexer": "ipython3",
   "version": "3.9.13"
  }
 },
 "nbformat": 4,
 "nbformat_minor": 5
}
