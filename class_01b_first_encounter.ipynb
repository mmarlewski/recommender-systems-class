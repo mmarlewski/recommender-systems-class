{
 "cells": [
  {
   "cell_type": "code",
   "execution_count": null,
   "id": "exciting-specific",
   "metadata": {},
   "outputs": [],
   "source": [
    "%matplotlib inline\n",
    "%load_ext autoreload\n",
    "%autoreload 2\n",
    "\n",
    "import numpy as np\n",
    "import pandas as pd\n",
    "import matplotlib.pyplot as plt\n",
    "import seaborn as sns\n",
    "from IPython.display import Markdown, display, HTML\n",
    "from collections import defaultdict\n",
    "from sklearn.model_selection import KFold\n",
    "\n",
    "# Fix the dying kernel problem (only a problem in some installations - you can remove it, if it works without it)\n",
    "import os\n",
    "os.environ['KMP_DUPLICATE_LIB_OK'] = 'True'\n",
    "\n",
    "pd.set_option('display.max_rows', 300)\n",
    "pd.set_option('display.max_columns', 50)"
   ]
  },
  {
   "cell_type": "markdown",
   "id": "administrative-charleston",
   "metadata": {},
   "source": [
    "# Movielens data"
   ]
  },
  {
   "cell_type": "code",
   "execution_count": null,
   "id": "architectural-andrews",
   "metadata": {},
   "outputs": [],
   "source": [
    "ml_ratings_df = pd.read_csv(os.path.join(\"data\", \"movielens_small\", \"ratings.csv\")).rename(columns={'userId': 'user_id', 'movieId': 'item_id'})\n",
    "ml_movies_df = pd.read_csv(os.path.join(\"data\", \"movielens_small\", \"movies.csv\")).rename(columns={'movieId': 'item_id'})\n",
    "ml_df = pd.merge(ml_ratings_df, ml_movies_df, on='item_id')\n",
    "print(\"Number of movies: {}\".format(len(ml_movies_df)))\n",
    "print(\"Number of users: {}\".format(len(ml_ratings_df.user_id.unique())))\n",
    "print(\"Number of interactions: {}\".format(len(ml_ratings_df)))\n",
    "print()\n",
    "print(\"Movies\")\n",
    "display(ml_movies_df.head(10))\n",
    "print(\"Interactions\")\n",
    "display(ml_ratings_df.head(30))"
   ]
  },
  {
   "cell_type": "markdown",
   "id": "alike-surfing",
   "metadata": {},
   "source": [
    "# Steam data"
   ]
  },
  {
   "cell_type": "code",
   "execution_count": null,
   "id": "sought-advancement",
   "metadata": {},
   "outputs": [],
   "source": [
    "steam_df = pd.read_csv(os.path.join(\"data\", \"steam\", \"steam-200k.csv\"), header=None, \n",
    "                       names=['user_id', 'game_title', 'behavior_name', 'value', 'zero']).drop(columns='zero')\n",
    "print(\"Number of records: {}\".format(len(steam_df)))\n",
    "display(steam_df.head(10))"
   ]
  },
  {
   "cell_type": "markdown",
   "id": "automotive-florence",
   "metadata": {},
   "source": [
    "# Hotel data"
   ]
  },
  {
   "cell_type": "code",
   "execution_count": null,
   "id": "cosmetic-belle",
   "metadata": {
    "scrolled": false
   },
   "outputs": [],
   "source": [
    "hotel_original_data = pd.read_csv(os.path.join(\"data\", \"hotel_data\", \"hotel_data_original.csv\"))\n",
    "print(\"Number of records: {}\".format(len(hotel_original_data)))\n",
    "display(hotel_original_data.head(30))"
   ]
  },
  {
   "cell_type": "code",
   "execution_count": null,
   "id": "colonial-convert",
   "metadata": {},
   "outputs": [],
   "source": [
    "hotel_data_interactions_df = pd.read_csv(os.path.join(\"data\", \"hotel_data\", \"hotel_data_interactions_df.csv\"))\n",
    "print(\"Number of records: {}\".format(len(hotel_data_interactions_df)))\n",
    "display(hotel_data_interactions_df.head(30))"
   ]
  },
  {
   "cell_type": "markdown",
   "id": "whole-buffer",
   "metadata": {},
   "source": [
    "# Test recommenders"
   ]
  },
  {
   "cell_type": "markdown",
   "id": "coastal-kernel",
   "metadata": {},
   "source": [
    "## Load a sample of Movielens data"
   ]
  },
  {
   "cell_type": "code",
   "execution_count": null,
   "id": "absent-uncle",
   "metadata": {},
   "outputs": [],
   "source": [
    "# Filter the data to reduce the number of movies\n",
    "\n",
    "ml_ratings_df = pd.read_csv(os.path.join(\"data\", \"movielens_small\", \"ratings.csv\")).rename(columns={'userId': 'user_id', 'movieId': 'item_id'})\n",
    "ml_movies_df = pd.read_csv(os.path.join(\"data\", \"movielens_small\", \"movies.csv\")).rename(columns={'movieId': 'item_id'})\n",
    "ml_df = pd.merge(ml_ratings_df, ml_movies_df, on='item_id')\n",
    "\n",
    "seed = 6789\n",
    "rng = np.random.RandomState(seed=seed)\n",
    "left_ids = rng.choice(ml_movies_df['item_id'], size=1000, replace=False)\n",
    "\n",
    "ml_ratings_df = ml_ratings_df.loc[ml_ratings_df['item_id'].isin(left_ids)]\n",
    "ml_movies_df = ml_movies_df.loc[ml_movies_df['item_id'].isin(left_ids)]\n",
    "ml_df = ml_df.loc[ml_df['item_id'].isin(left_ids)]\n",
    "\n",
    "print(\"Number of left interactions: {}\".format(len(ml_ratings_df)))"
   ]
  },
  {
   "cell_type": "markdown",
   "id": "registered-membrane",
   "metadata": {},
   "source": [
    "## Train several recommenders"
   ]
  },
  {
   "cell_type": "code",
   "execution_count": null,
   "id": "capable-rally",
   "metadata": {},
   "outputs": [],
   "source": [
    "from recommenders.basic_recommenders import RandomRecommender\n",
    "from recommenders.basic_recommenders import MostPopularRecommender\n",
    "from recommenders.basic_recommenders import HighestRatedRecommender\n",
    "from recommenders.tfidf_recommender import TFIDFRecommender\n",
    "from recommenders.nearest_neighbors_recommender import ItemBasedCosineNearestNeighborsRecommender\n",
    "from recommenders.amazon_recommender import AmazonRecommender\n",
    "from recommenders.netflix_recommender import NetflixRecommender\n",
    "from recommenders.gmf_recommenders import GMFRecommender\n",
    "\n",
    "random_recommender = RandomRecommender()\n",
    "most_popular_recommender = MostPopularRecommender()\n",
    "highest_rated_recommender = HighestRatedRecommender()\n",
    "tfidf_recommender = TFIDFRecommender()\n",
    "ibcnn_recommender = ItemBasedCosineNearestNeighborsRecommender(n_neighbors=30)\n",
    "amazon_recommender = AmazonRecommender()\n",
    "netflix_recommender = NetflixRecommender(print_type='live', embedding_dim=8, n_epochs=20)\n",
    "gmf_recommender = GMFRecommender(print_type='live', n_neg_per_pos=10, batch_size=16, \n",
    "                                 embedding_dim=6, lr=0.001, weight_decay=0.0001, n_epochs=5, seed=1)"
   ]
  },
  {
   "cell_type": "code",
   "execution_count": null,
   "id": "chronic-darkness",
   "metadata": {},
   "outputs": [],
   "source": [
    "random_recommender.fit(ml_ratings_df, None, ml_movies_df)"
   ]
  },
  {
   "cell_type": "code",
   "execution_count": null,
   "id": "wrapped-democracy",
   "metadata": {},
   "outputs": [],
   "source": [
    "most_popular_recommender = MostPopularRecommender()\n",
    "highest_rated_recommender = HighestRatedRecommender()\n",
    "most_popular_recommender.fit(ml_ratings_df, None, ml_movies_df)"
   ]
  },
  {
   "cell_type": "code",
   "execution_count": null,
   "id": "digital-forty",
   "metadata": {},
   "outputs": [],
   "source": [
    "highest_rated_recommender.fit(ml_ratings_df, None, ml_movies_df)"
   ]
  },
  {
   "cell_type": "code",
   "execution_count": null,
   "id": "incorrect-newcastle",
   "metadata": {},
   "outputs": [],
   "source": [
    "tfidf_recommender.fit(ml_ratings_df, None, ml_movies_df)"
   ]
  },
  {
   "cell_type": "code",
   "execution_count": null,
   "id": "global-rocket",
   "metadata": {},
   "outputs": [],
   "source": [
    "ibcnn_recommender.fit(ml_ratings_df, None, ml_movies_df)"
   ]
  },
  {
   "cell_type": "code",
   "execution_count": null,
   "id": "arctic-ladder",
   "metadata": {},
   "outputs": [],
   "source": [
    "amazon_recommender.fit(ml_ratings_df, None, ml_movies_df)"
   ]
  },
  {
   "cell_type": "code",
   "execution_count": null,
   "id": "romantic-prisoner",
   "metadata": {},
   "outputs": [],
   "source": [
    "netflix_recommender.fit(ml_ratings_df, None, ml_movies_df)"
   ]
  },
  {
   "cell_type": "code",
   "execution_count": null,
   "id": "immune-fleet",
   "metadata": {},
   "outputs": [],
   "source": [
    "gmf_recommender.fit(ml_ratings_df, None, ml_movies_df)"
   ]
  },
  {
   "cell_type": "code",
   "execution_count": null,
   "id": "simple-first",
   "metadata": {},
   "outputs": [],
   "source": [
    "recommenders = [random_recommender, most_popular_recommender, highest_rated_recommender, tfidf_recommender, \n",
    "                ibcnn_recommender, amazon_recommender, netflix_recommender, gmf_recommender]"
   ]
  },
  {
   "cell_type": "markdown",
   "id": "neural-trademark",
   "metadata": {},
   "source": [
    "## Take a look on user 6 preferences"
   ]
  },
  {
   "cell_type": "code",
   "execution_count": null,
   "id": "sorted-alcohol",
   "metadata": {},
   "outputs": [],
   "source": [
    "# Print movies watched by user 6\n",
    "\n",
    "active_user_movies = ml_df.loc[ml_df['user_id'] == 6]\n",
    "print(\"Active user history\")\n",
    "display(active_user_movies.sort_values('rating', ascending=False))"
   ]
  },
  {
   "cell_type": "markdown",
   "id": "attractive-divorce",
   "metadata": {},
   "source": [
    "## Generate recommendations"
   ]
  },
  {
   "cell_type": "code",
   "execution_count": null,
   "id": "oriented-service",
   "metadata": {
    "scrolled": false
   },
   "outputs": [],
   "source": [
    "for recommender in recommenders:\n",
    "    recommendations = recommender.recommend(pd.DataFrame([[6]], columns=['user_id']), ml_movies_df, 5)\n",
    "\n",
    "    recommendations = pd.merge(recommendations, ml_movies_df, on='item_id', how='left')\n",
    "    print(\"Recommendations for {}\".format(type(recommender).__name__))\n",
    "    display(recommendations)"
   ]
  },
  {
   "cell_type": "markdown",
   "id": "sealed-liberty",
   "metadata": {},
   "source": [
    "### Train-test split test"
   ]
  },
  {
   "cell_type": "code",
   "execution_count": null,
   "id": "identified-destination",
   "metadata": {},
   "outputs": [],
   "source": [
    "from evaluation_and_testing.testing import evaluate_train_test_split_implicit\n",
    "\n",
    "random_recommender = RandomRecommender()\n",
    "most_popular_recommender = MostPopularRecommender()\n",
    "highest_rated_recommender = HighestRatedRecommender()\n",
    "tfidf_recommender = TFIDFRecommender()\n",
    "ibcnn_recommender = ItemBasedCosineNearestNeighborsRecommender(n_neighbors=30)\n",
    "amazon_recommender = AmazonRecommender()\n",
    "netflix_recommender = NetflixRecommender(print_type=None, embedding_dim=8, n_epochs=20)\n",
    "gmf_recommender = GMFRecommender(print_type=None, n_neg_per_pos=10, batch_size=16, \n",
    "                                 embedding_dim=6, lr=0.001, weight_decay=0.0001, n_epochs=5, seed=1)\n",
    "\n",
    "recommenders = [random_recommender, most_popular_recommender, highest_rated_recommender, tfidf_recommender, \n",
    "                ibcnn_recommender, amazon_recommender, netflix_recommender, gmf_recommender]\n",
    "\n",
    "all_results = []\n",
    "\n",
    "for recommender in recommenders:\n",
    "    results = [[type(recommender).__name__] + list(evaluate_train_test_split_implicit(\n",
    "        recommender, ml_ratings_df, ml_movies_df))]\n",
    "\n",
    "    results = pd.DataFrame(results, \n",
    "                           columns=['Recommender', 'HR@1', 'HR@3', 'HR@5', 'HR@10', 'NDCG@1', 'NDCG@3', 'NDCG@5', 'NDCG@10'])\n",
    "    all_results.append(results)\n",
    "\n",
    "    display(results)\n",
    "    \n",
    "all_results = pd.concat(all_results).reset_index(drop=True)\n",
    "display(all_results)"
   ]
  },
  {
   "cell_type": "code",
   "execution_count": null,
   "id": "split-insertion",
   "metadata": {},
   "outputs": [],
   "source": []
  }
 ],
 "metadata": {
  "kernelspec": {
   "display_name": "Python 3 (ipykernel)",
   "language": "python",
   "name": "python3"
  },
  "language_info": {
   "codemirror_mode": {
    "name": "ipython",
    "version": 3
   },
   "file_extension": ".py",
   "mimetype": "text/x-python",
   "name": "python",
   "nbconvert_exporter": "python",
   "pygments_lexer": "ipython3",
   "version": "3.9.13"
  }
 },
 "nbformat": 4,
 "nbformat_minor": 5
}
